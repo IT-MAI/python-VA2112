{
 "cells": [
  {
   "cell_type": "code",
   "execution_count": null,
   "id": "1f79a44d",
   "metadata": {},
   "outputs": [],
   "source": []
  },
  {
   "cell_type": "markdown",
   "id": "85755de8",
   "metadata": {},
   "source": [
    "# Самостоятельное задание #5\n",
    "\n",
    "\n",
    "### Задание 1\n",
    "\n",
    "Допишите функцию, которая принимает список, выбирает из него все элементы с четным индексом и возвращает их в виде списка."
   ]
  },
  {
   "cell_type": "code",
   "execution_count": 1,
   "id": "6ef6d9b3",
   "metadata": {},
   "outputs": [
    {
     "name": "stdout",
     "output_type": "stream",
     "text": [
      "[0, 1, 2, 3, 4, 5, 6, 7, 8, 9]\n",
      "[0, 2, 4, 6, 8]\n"
     ]
    }
   ],
   "source": [
    "a = list(range(10))\n",
    "\n",
    "def even_elems(a):\n",
    "    result = []\n",
    "    for i in a[::2]:\n",
    "        result.append(i)\n",
    "    return result\n",
    "print(a)\n",
    "print(even_elems(a))"
   ]
  },
  {
   "cell_type": "markdown",
   "id": "443974c9",
   "metadata": {},
   "source": [
    "### Задание 2\n",
    "\n",
    "Допишите функцию, которая принимает список, выбирает из него все элементы, которые больше предыдущего и возвращает их в виде списка.\n"
   ]
  },
  {
   "cell_type": "code",
   "execution_count": 3,
   "id": "3a8cf925",
   "metadata": {},
   "outputs": [
    {
     "name": "stdout",
     "output_type": "stream",
     "text": [
      "[5, 4, 1, 8, 0, 2, 7, 6, 9, 3]\n",
      "[8, 2, 7, 9]\n"
     ]
    }
   ],
   "source": [
    "from random import shuffle\n",
    "\n",
    "a = list(range(10))\n",
    "shuffle(a)\n",
    "\n",
    "def greater_elems(a):\n",
    "    result = []\n",
    "    for i in range(len(a) - 1):\n",
    "        if(a[i + 1] > a[i]):\n",
    "            result.append(a[i+1])\n",
    "    return result\n",
    "print(a)\n",
    "print(greater_elems(a))"
   ]
  },
  {
   "cell_type": "markdown",
   "id": "34524ede",
   "metadata": {},
   "source": [
    "### Задание 3\n",
    "\n",
    "Допишите функцию, которая принимает список, меняет местами наибольший и наименьший элементы и возвращает этот список."
   ]
  },
  {
   "cell_type": "code",
   "execution_count": 8,
   "id": "34d2beae",
   "metadata": {},
   "outputs": [
    {
     "name": "stdout",
     "output_type": "stream",
     "text": [
      "[1, 0, 3, 2, 8, 7, 6, 9, 5, 4]\n",
      "[1, 9, 3, 2, 8, 7, 6, 0, 5, 4]\n"
     ]
    }
   ],
   "source": [
    "from random import shuffle\n",
    "from math import inf\n",
    "\n",
    "a = list(range(10))\n",
    "shuffle(a)\n",
    "\n",
    "print(a)\n",
    "\n",
    "def swap(a):\n",
    "    \n",
    "    min_element_index = -1\n",
    "    min_element = inf\n",
    "    \n",
    "    max_element_index = -1\n",
    "    max_element = -inf\n",
    "    \n",
    "    for i in range(len(a)):\n",
    "        if a[i] > max_element:\n",
    "            max_element = a[i]\n",
    "            max_element_index = i\n",
    "        if a[i] < min_element:\n",
    "            min_element = a[i]\n",
    "            min_element_index = i\n",
    "            \n",
    "    a[min_element_index], a[max_element_index] = a[max_element_index], a[min_element_index]\n",
    "    \n",
    "    return a\n",
    "print(swap(a))"
   ]
  },
  {
   "cell_type": "code",
   "execution_count": null,
   "id": "a08e919a",
   "metadata": {},
   "outputs": [],
   "source": []
  },
  {
   "cell_type": "code",
   "execution_count": null,
   "id": "e93a0e4e",
   "metadata": {},
   "outputs": [],
   "source": []
  }
 ],
 "metadata": {
  "kernelspec": {
   "display_name": "Python 3",
   "language": "python",
   "name": "python3"
  },
  "language_info": {
   "codemirror_mode": {
    "name": "ipython",
    "version": 3
   },
   "file_extension": ".py",
   "mimetype": "text/x-python",
   "name": "python",
   "nbconvert_exporter": "python",
   "pygments_lexer": "ipython3",
   "version": "3.8.8"
  }
 },
 "nbformat": 4,
 "nbformat_minor": 5
}
