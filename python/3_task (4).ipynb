{
 "cells": [
  {
   "cell_type": "markdown",
   "id": "657be689",
   "metadata": {},
   "source": [
    "3##### Самостоятельное задание #3\n",
    "\n",
    "\n",
    "### Задание 1\n",
    "\n",
    "Допишите функцию, которая принимает массив из 10 чисел и возвращает их сумму."
   ]
  },
  {
   "cell_type": "code",
   "execution_count": 9,
   "id": "18ffcbab",
   "metadata": {},
   "outputs": [
    {
     "name": "stdout",
     "output_type": "stream",
     "text": [
      "1,2,234432,324,5,1\n"
     ]
    },
    {
     "data": {
      "text/plain": [
       "(1, 2, 234432, 324, 5, 1)"
      ]
     },
     "execution_count": 9,
     "metadata": {},
     "output_type": "execute_result"
    }
   ],
   "source": [
    "x = input()\n",
    "1,2,234432,324,5,1"
   ]
  },
  {
   "cell_type": "code",
   "execution_count": 10,
   "id": "0fce3798",
   "metadata": {},
   "outputs": [],
   "source": [
    "int_x = [int(i) for i in x.split(',')]"
   ]
  },
  {
   "cell_type": "code",
   "execution_count": 11,
   "id": "7882e666",
   "metadata": {},
   "outputs": [
    {
     "data": {
      "text/plain": [
       "[1, 2, 234432, 324, 5, 1]"
      ]
     },
     "execution_count": 11,
     "metadata": {},
     "output_type": "execute_result"
    }
   ],
   "source": [
    "int_x"
   ]
  },
  {
   "cell_type": "code",
   "execution_count": 14,
   "id": "a1ee7e61",
   "metadata": {},
   "outputs": [],
   "source": [
    "def sum_array(array):\n",
    "    _sum = 0\n",
    "    for i in array:\n",
    "        _sum += i\n",
    "    return _sum"
   ]
  },
  {
   "cell_type": "code",
   "execution_count": 15,
   "id": "8d007cf6",
   "metadata": {},
   "outputs": [
    {
     "data": {
      "text/plain": [
       "8"
      ]
     },
     "execution_count": 15,
     "metadata": {},
     "output_type": "execute_result"
    }
   ],
   "source": [
    "test_arr = [1,1,1,1,1,1,1,1,]\n",
    "sum_array(test_arr)"
   ]
  },
  {
   "cell_type": "markdown",
   "id": "eb78afc0",
   "metadata": {},
   "source": [
    "\n",
    "### Задание 2\n",
    "\n",
    "Допишите функцию, которая принимает массив чисел и возвращает количество чисел равных нулю."
   ]
  },
  {
   "cell_type": "code",
   "execution_count": 12,
   "id": "7e8fe536",
   "metadata": {},
   "outputs": [],
   "source": [
    "def zero_func(array):\n",
    "    s = 0\n",
    "    for i in array:\n",
    "        if i == 0:\n",
    "            s+=1\n",
    "    return s"
   ]
  },
  {
   "cell_type": "code",
   "execution_count": 15,
   "id": "50c79db7",
   "metadata": {},
   "outputs": [
    {
     "name": "stdout",
     "output_type": "stream",
     "text": [
      "3\n"
     ]
    }
   ],
   "source": [
    "array = [0, 321, 0 , 12, 0, 5, 6]\n",
    "print(zero_func(array))"
   ]
  },
  {
   "cell_type": "markdown",
   "id": "570d5a26",
   "metadata": {},
   "source": [
    "\n",
    "### Задание 3\n",
    "\n",
    "Напишите программу, в которой задается  натуральное число n и выводится лестница из n ступенек, i-я ступенька должна состоять из чисел от 1 до i без пробелов."
   ]
  },
  {
   "cell_type": "code",
   "execution_count": 16,
   "id": "69fd0501",
   "metadata": {},
   "outputs": [
    {
     "name": "stdout",
     "output_type": "stream",
     "text": [
      "4\n"
     ]
    }
   ],
   "source": [
    "n = input()"
   ]
  },
  {
   "cell_type": "code",
   "execution_count": 31,
   "id": "5d0880e8",
   "metadata": {},
   "outputs": [
    {
     "name": "stdout",
     "output_type": "stream",
     "text": [
      "\n",
      "1\n",
      "12\n",
      "123\n",
      "1234\n",
      "12345\n",
      "123456\n",
      "1234567\n"
     ]
    }
   ],
   "source": [
    "for i in range (1, 9):\n",
    "    print(''.join([str(x) for x in range(1, i)]))"
   ]
  },
  {
   "cell_type": "markdown",
   "id": "b6ef1c44",
   "metadata": {},
   "source": [
    "\n",
    "### Задание 4\n",
    "\n",
    "Напишите программу, в которой задается натуральное число n и выводится пирамида из n ступенек, i-я ступень должна состоять из чисел от 1 до i и обратно без пробелов."
   ]
  },
  {
   "cell_type": "code",
   "execution_count": 38,
   "id": "6b038f87",
   "metadata": {},
   "outputs": [
    {
     "name": "stdout",
     "output_type": "stream",
     "text": [
      "9\n",
      "         1 \n",
      "        121 \n",
      "       12321 \n",
      "      1234321 \n",
      "     123454321 \n",
      "    12345654321 \n",
      "   1234567654321 \n",
      "  123456787654321 \n",
      " 12345678987654321 \n"
     ]
    }
   ],
   "source": [
    "n = int(input())#Размер грани\n",
    "x =\" \"\n",
    "for i in range(1, n + 1):\n",
    "    x = x + str(i)\n",
    "    print(\" \"*(n-i) + x + x[-2::-1])"
   ]
  },
  {
   "cell_type": "markdown",
   "id": "b4552ef5",
   "metadata": {},
   "source": [
    "\n",
    "### Задание 5\n",
    "\n",
    "Напишите программу, в которой задается натуральное число n и выводится ромб из `n*2-1` ступенек, i-я ступень должна состоять из чисел от 1 до i и обратно без пробелов."
   ]
  },
  {
   "cell_type": "code",
   "execution_count": 58,
   "id": "5eaae897",
   "metadata": {},
   "outputs": [
    {
     "name": "stdout",
     "output_type": "stream",
     "text": [
      "7\n",
      "        1\n",
      "       121\n",
      "      12321\n",
      "     1234321\n",
      "    123454321\n",
      "   12345654321\n",
      "  1234567654321\n",
      "    12345654321\n",
      "     123454321\n",
      "      1234321\n",
      "       12321\n",
      "        121\n",
      "         1\n"
     ]
    }
   ],
   "source": [
    "mas=[\" \"]*100\n",
    "a = \" \"\n",
    "i = 1\n",
    "k = 1\n",
    "n = int(input())\n",
    "for i in range(1, n+1):\n",
    "    if i == 0:\n",
    "        i = 1\n",
    "    b = a\n",
    "    a = a + str(i)\n",
    "    \n",
    "    mas = sorted(list(a), reverse=True)\n",
    "    for j in range(i):\n",
    "        b += mas[j]\n",
    "    print(\" \"*(n-i),b)\n",
    "    \n",
    "c = list(b)\n",
    "a = \" \"\n",
    "f = \" \"\n",
    "mas = [\" \"]*100\n",
    "\n",
    "for i in range (n, 1, -1):\n",
    "    while c.count(str(i)) !=0:\n",
    "        c.remove(str(i))\n",
    "        c.remove(str(i-1))\n",
    "    for i in range(len(c)):\n",
    "        f += c[i]\n",
    "        \n",
    "    print(\" \"*k,f)\n",
    "    k += 1\n",
    "    f = \" \""
   ]
  }
 ],
 "metadata": {
  "kernelspec": {
   "display_name": "Python 3",
   "language": "python",
   "name": "python3"
  },
  "language_info": {
   "codemirror_mode": {
    "name": "ipython",
    "version": 3
   },
   "file_extension": ".py",
   "mimetype": "text/x-python",
   "name": "python",
   "nbconvert_exporter": "python",
   "pygments_lexer": "ipython3",
   "version": "3.8.8"
  }
 },
 "nbformat": 4,
 "nbformat_minor": 5
}
